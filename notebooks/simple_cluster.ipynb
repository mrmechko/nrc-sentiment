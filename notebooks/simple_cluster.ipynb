{
 "cells": [
  {
   "cell_type": "code",
   "execution_count": 1,
   "id": "044d3a3a",
   "metadata": {},
   "outputs": [],
   "source": [
    "import sys\n",
    "sys.path.append(\"..\")\n",
    "import nrc"
   ]
  },
  {
   "cell_type": "code",
   "execution_count": 2,
   "id": "98b34a70",
   "metadata": {},
   "outputs": [],
   "source": [
    "lexicon = nrc.load_sentiments(\"../NRC-VAD-Lexicon-Aug2018Release/NRC-VAD-Lexicon.txt\")"
   ]
  },
  {
   "cell_type": "code",
   "execution_count": 3,
   "id": "89e17329",
   "metadata": {},
   "outputs": [],
   "source": [
    "from numpy import array\n",
    "from scipy.cluster.vq import vq, kmeans, whiten"
   ]
  },
  {
   "cell_type": "code",
   "execution_count": 4,
   "id": "41761c17",
   "metadata": {},
   "outputs": [],
   "source": [
    "ix = []\n",
    "matrix = []\n",
    "for k, v in lexicon.items():\n",
    "    ix.append(k)\n",
    "    matrix.append(v.vector)\n",
    "matrix = array(matrix)"
   ]
  },
  {
   "cell_type": "code",
   "execution_count": 5,
   "id": "03994688",
   "metadata": {},
   "outputs": [
    {
     "data": {
      "text/plain": [
       "array([[-0.042,  0.212, -0.418],\n",
       "       [ 0.04 ,  0.272, -0.436],\n",
       "       [-0.146, -0.02 , -0.126],\n",
       "       ...,\n",
       "       [ 0.136, -0.306,  0.018],\n",
       "       [-0.02 ,  0.04 , -0.076],\n",
       "       [ 0.02 , -0.358, -0.5  ]])"
      ]
     },
     "execution_count": 5,
     "metadata": {},
     "output_type": "execute_result"
    }
   ],
   "source": [
    "matrix"
   ]
  },
  {
   "cell_type": "code",
   "execution_count": 6,
   "id": "676a3fe4",
   "metadata": {},
   "outputs": [],
   "source": [
    "#whitened = whiten(matrix)\n",
    "clusters = kmeans(matrix, 5)"
   ]
  },
  {
   "cell_type": "code",
   "execution_count": 7,
   "id": "185d8e08",
   "metadata": {},
   "outputs": [
    {
     "data": {
      "text/plain": [
       "(array([4, 2, 2, ..., 1, 2, 1], dtype=int32),\n",
       " array([0.51103574, 0.60914212, 0.31185285, ..., 0.21693044, 0.20768218,\n",
       "        0.33294386]))"
      ]
     },
     "execution_count": 7,
     "metadata": {},
     "output_type": "execute_result"
    }
   ],
   "source": [
    "vq(matrix, clusters[0])"
   ]
  },
  {
   "cell_type": "code",
   "execution_count": 8,
   "id": "3b7b24ec",
   "metadata": {},
   "outputs": [
    {
     "data": {
      "text/plain": [
       "148.69587650440903"
      ]
     },
     "execution_count": 8,
     "metadata": {},
     "output_type": "execute_result"
    }
   ],
   "source": [
    "lexicon[\"lie\"].angle"
   ]
  },
  {
   "cell_type": "code",
   "execution_count": 9,
   "id": "487da503",
   "metadata": {},
   "outputs": [
    {
     "data": {
      "text/plain": [
       "68.98269912524374"
      ]
     },
     "execution_count": 9,
     "metadata": {},
     "output_type": "execute_result"
    }
   ],
   "source": [
    "lexicon[\"sly\"].angle"
   ]
  },
  {
   "cell_type": "code",
   "execution_count": 10,
   "id": "bd448e19",
   "metadata": {},
   "outputs": [
    {
     "data": {
      "text/plain": [
       "25.173524524530166"
      ]
     },
     "execution_count": 10,
     "metadata": {},
     "output_type": "execute_result"
    }
   ],
   "source": [
    "lexicon[\"happy\"].angle"
   ]
  },
  {
   "cell_type": "code",
   "execution_count": 11,
   "id": "0b667b0b",
   "metadata": {},
   "outputs": [],
   "source": [
    "cut = 10.0\n",
    "from collections import defaultdict as ddict"
   ]
  },
  {
   "cell_type": "code",
   "execution_count": 12,
   "id": "d9e3271c",
   "metadata": {},
   "outputs": [],
   "source": [
    "vals = ddict(list)\n",
    "sents = {}\n",
    "for s, v in lexicon.items():\n",
    "    vals[int(v.angle*cut)/cut].append(s)\n",
    "    sents[s] = int(v.angle*cut)/cut\n",
    "for s in sents:\n",
    "    vals[sents[s]].sort(key=lambda x: (lexicon[x].valence**2+lexicon[x].arousal**2)**0.5)"
   ]
  },
  {
   "cell_type": "code",
   "execution_count": 13,
   "id": "5b52835d",
   "metadata": {},
   "outputs": [],
   "source": [
    "def scale(x):\n",
    "    return (lexicon[x].angle, vals[sents[x]])"
   ]
  },
  {
   "cell_type": "code",
   "execution_count": 14,
   "id": "cc622ce5",
   "metadata": {},
   "outputs": [
    {
     "data": {
      "text/plain": [
       "(-148.7308317576255, ['bounds', 'quarry', 'stereoscopic', 'sad'])"
      ]
     },
     "execution_count": 14,
     "metadata": {},
     "output_type": "execute_result"
    }
   ],
   "source": [
    "scale(\"sad\")"
   ]
  },
  {
   "cell_type": "code",
   "execution_count": 15,
   "id": "f82849d8",
   "metadata": {},
   "outputs": [
    {
     "data": {
      "text/plain": [
       "(25.173524524530166,\n",
       " ['scorer', 'sympathize', 'debutante', 'recreational', 'happy'])"
      ]
     },
     "execution_count": 15,
     "metadata": {},
     "output_type": "execute_result"
    }
   ],
   "source": [
    "scale(\"happy\")"
   ]
  },
  {
   "cell_type": "code",
   "execution_count": 16,
   "id": "c489c188",
   "metadata": {},
   "outputs": [
    {
     "data": {
      "text/plain": [
       "['Sentiment: conglomerate(valence=0.0, arousal=0.0, dominance=0.6759999999999999)',\n",
       " 'Sentiment: evidence(valence=0.0, arousal=0.0, dominance=0.556)',\n",
       " 'Sentiment: factory(valence=0.0, arousal=0.0, dominance=0.3660000000000001)',\n",
       " 'Sentiment: malleable(valence=0.0, arousal=0.0, dominance=-0.21799999999999997)',\n",
       " 'Sentiment: microcosm(valence=0.0, arousal=0.0, dominance=0.040000000000000036)',\n",
       " 'Sentiment: pong(valence=0.0, arousal=0.0, dominance=-0.20799999999999996)',\n",
       " 'Sentiment: psychical(valence=0.0, arousal=0.0, dominance=0.6220000000000001)',\n",
       " 'Sentiment: sidewinder(valence=0.0, arousal=0.0, dominance=-0.122)',\n",
       " 'Sentiment: supernatant(valence=0.0, arousal=0.0, dominance=0.1299999999999999)',\n",
       " 'Sentiment: vehement(valence=0.0, arousal=0.0, dominance=0.1499999999999999)',\n",
       " 'Sentiment: wicket(valence=0.0, arousal=0.0, dominance=-0.05800000000000005)',\n",
       " 'Sentiment: bagman(valence=0.01200000000000001, arousal=0.0, dominance=-0.21199999999999997)',\n",
       " 'Sentiment: adjuvant(valence=0.020000000000000018, arousal=0.0, dominance=-0.08799999999999997)',\n",
       " 'Sentiment: artifact(valence=0.020000000000000018, arousal=0.0, dominance=0.1319999999999999)',\n",
       " 'Sentiment: atom(valence=0.020000000000000018, arousal=0.0, dominance=-0.134)',\n",
       " 'Sentiment: duo(valence=0.020000000000000018, arousal=0.0, dominance=-0.10599999999999998)',\n",
       " 'Sentiment: epitome(valence=0.020000000000000018, arousal=0.0, dominance=0.3340000000000001)',\n",
       " 'Sentiment: hedonism(valence=0.020000000000000018, arousal=0.0, dominance=0.21599999999999997)',\n",
       " 'Sentiment: hype(valence=0.020000000000000018, arousal=0.0, dominance=0.17199999999999993)',\n",
       " 'Sentiment: machine(valence=0.020000000000000018, arousal=0.0, dominance=0.4139999999999999)',\n",
       " 'Sentiment: socialism(valence=0.020000000000000018, arousal=0.0, dominance=0.1200000000000001)',\n",
       " 'Sentiment: bust(valence=0.040000000000000036, arousal=0.0, dominance=-0.16000000000000003)',\n",
       " 'Sentiment: capital(valence=0.040000000000000036, arousal=0.0, dominance=0.5960000000000001)',\n",
       " 'Sentiment: houseguest(valence=0.06000000000000005, arousal=0.0, dominance=-0.038000000000000034)',\n",
       " 'Sentiment: bastion(valence=0.062000000000000055, arousal=0.0, dominance=0.19199999999999995)',\n",
       " 'Sentiment: patriarchal(valence=0.062000000000000055, arousal=0.0, dominance=0.714)',\n",
       " 'Sentiment: tow(valence=0.062000000000000055, arousal=0.0, dominance=0.016000000000000014)',\n",
       " 'Sentiment: apace(valence=0.07200000000000006, arousal=0.0, dominance=0.07200000000000006)',\n",
       " 'Sentiment: nippy(valence=0.08000000000000007, arousal=0.0, dominance=-0.16800000000000004)',\n",
       " 'Sentiment: nocturnal(valence=0.08000000000000007, arousal=0.0, dominance=-0.07599999999999996)',\n",
       " 'Sentiment: encomiastic(valence=0.08200000000000007, arousal=0.0, dominance=0.3400000000000001)',\n",
       " 'Sentiment: auspices(valence=0.08400000000000007, arousal=0.0, dominance=0.268)',\n",
       " 'Sentiment: grantor(valence=0.08400000000000007, arousal=0.0, dominance=0.43399999999999994)',\n",
       " 'Sentiment: mechanics(valence=0.08400000000000007, arousal=0.0, dominance=0.522)',\n",
       " 'Sentiment: aeration(valence=0.10000000000000009, arousal=0.0, dominance=-0.134)',\n",
       " 'Sentiment: adverts(valence=0.10200000000000009, arousal=0.0, dominance=0.18999999999999995)',\n",
       " 'Sentiment: poll(valence=0.10400000000000009, arousal=0.0, dominance=0.1080000000000001)',\n",
       " 'Sentiment: pursuance(valence=0.10400000000000009, arousal=0.0, dominance=0.1180000000000001)',\n",
       " 'Sentiment: recurrent(valence=0.10400000000000009, arousal=0.0, dominance=0.12200000000000011)',\n",
       " 'Sentiment: suggestive(valence=0.10400000000000009, arousal=0.0, dominance=0.1100000000000001)',\n",
       " 'Sentiment: swap(valence=0.10400000000000009, arousal=0.0, dominance=0.018000000000000016)',\n",
       " 'Sentiment: elongation(valence=0.12200000000000011, arousal=0.0, dominance=0.0)',\n",
       " 'Sentiment: abba(valence=0.12400000000000011, arousal=0.0, dominance=-0.040000000000000036)',\n",
       " 'Sentiment: mangosteen(valence=0.12400000000000011, arousal=0.0, dominance=-0.17200000000000004)',\n",
       " 'Sentiment: mixer(valence=0.12400000000000011, arousal=0.0, dominance=0.1120000000000001)',\n",
       " 'Sentiment: rationalism(valence=0.12400000000000011, arousal=0.0, dominance=0.3520000000000001)',\n",
       " 'Sentiment: scientist(valence=0.12400000000000011, arousal=0.0, dominance=0.5800000000000001)',\n",
       " 'Sentiment: trombone(valence=0.12400000000000011, arousal=0.0, dominance=0.0)',\n",
       " 'Sentiment: doorbell(valence=0.1279999999999999, arousal=0.0, dominance=-0.386)',\n",
       " 'Sentiment: germane(valence=0.1399999999999999, arousal=0.0, dominance=0.1339999999999999)',\n",
       " 'Sentiment: asap(valence=0.1419999999999999, arousal=0.0, dominance=0.10400000000000009)',\n",
       " 'Sentiment: diagnosis(valence=0.1419999999999999, arousal=0.0, dominance=0.6379999999999999)',\n",
       " 'Sentiment: hark(valence=0.1419999999999999, arousal=0.0, dominance=-0.20399999999999996)',\n",
       " 'Sentiment: oftentimes(valence=0.1419999999999999, arousal=0.0, dominance=-0.03600000000000003)',\n",
       " 'Sentiment: screenwriter(valence=0.1419999999999999, arousal=0.0, dominance=0.42399999999999993)',\n",
       " 'Sentiment: constituent(valence=0.1459999999999999, arousal=0.0, dominance=0.6539999999999999)',\n",
       " 'Sentiment: departure(valence=0.1459999999999999, arousal=0.0, dominance=-0.14800000000000002)',\n",
       " 'Sentiment: hangout(valence=0.1459999999999999, arousal=0.0, dominance=-0.07599999999999996)',\n",
       " 'Sentiment: western(valence=0.1459999999999999, arousal=0.0, dominance=0.3779999999999999)',\n",
       " 'Sentiment: estrogen(valence=0.15999999999999992, arousal=0.0, dominance=-0.15000000000000002)',\n",
       " 'Sentiment: vote(valence=0.16399999999999992, arousal=0.0, dominance=0.29800000000000004)',\n",
       " 'Sentiment: innermost(valence=0.16599999999999993, arousal=0.0, dominance=0.020000000000000018)',\n",
       " 'Sentiment: pavilion(valence=0.16599999999999993, arousal=0.0, dominance=0.54)',\n",
       " 'Sentiment: undergraduate(valence=0.16599999999999993, arousal=0.0, dominance=0.1180000000000001)',\n",
       " 'Sentiment: exonerate(valence=0.18399999999999994, arousal=0.0, dominance=0.07600000000000007)',\n",
       " 'Sentiment: herd(valence=0.18399999999999994, arousal=0.0, dominance=-0.052000000000000046)',\n",
       " 'Sentiment: sonic(valence=0.18799999999999994, arousal=0.0, dominance=-0.038000000000000034)',\n",
       " 'Sentiment: memorandum(valence=0.19999999999999996, arousal=0.0, dominance=0.278)',\n",
       " 'Sentiment: translucent(valence=0.19999999999999996, arousal=0.0, dominance=-0.22199999999999998)',\n",
       " 'Sentiment: financier(valence=0.20399999999999996, arousal=0.0, dominance=0.556)',\n",
       " 'Sentiment: pediatrician(valence=0.20399999999999996, arousal=0.0, dominance=0.254)',\n",
       " 'Sentiment: snowday(valence=0.20399999999999996, arousal=0.0, dominance=-0.12)',\n",
       " 'Sentiment: housekeeping(valence=0.20799999999999996, arousal=0.0, dominance=-0.10999999999999999)',\n",
       " 'Sentiment: madame(valence=0.20799999999999996, arousal=0.0, dominance=0.27)',\n",
       " 'Sentiment: planetary(valence=0.20799999999999996, arousal=0.0, dominance=0.24)',\n",
       " 'Sentiment: neurologist(valence=0.21599999999999997, arousal=0.0, dominance=0.472)',\n",
       " 'Sentiment: completing(valence=0.22799999999999998, arousal=0.0, dominance=0.538)',\n",
       " 'Sentiment: response(valence=0.22999999999999998, arousal=0.0, dominance=-0.05600000000000005)',\n",
       " 'Sentiment: demonstrated(valence=0.23399999999999999, arousal=0.0, dominance=0.29800000000000004)',\n",
       " 'Sentiment: preparer(valence=0.23399999999999999, arousal=0.0, dominance=0.48)',\n",
       " 'Sentiment: admitting(valence=0.24, arousal=0.0, dominance=0.09200000000000008)',\n",
       " 'Sentiment: mathematical(valence=0.24, arousal=0.0, dominance=0.09600000000000009)',\n",
       " 'Sentiment: bohemian(valence=0.244, arousal=0.0, dominance=-0.18600000000000005)',\n",
       " 'Sentiment: journalism(valence=0.244, arousal=0.0, dominance=0.3680000000000001)',\n",
       " 'Sentiment: soready(valence=0.244, arousal=0.0, dominance=0.09000000000000008)',\n",
       " 'Sentiment: facility(valence=0.25, arousal=0.0, dominance=0.30800000000000005)',\n",
       " 'Sentiment: first(valence=0.25, arousal=0.0, dominance=0.5760000000000001)',\n",
       " 'Sentiment: importation(valence=0.25, arousal=0.0, dominance=0.46599999999999997)',\n",
       " 'Sentiment: purchase(valence=0.25, arousal=0.0, dominance=0.23199999999999998)',\n",
       " 'Sentiment: logistics(valence=0.266, arousal=0.0, dominance=0.45999999999999996)',\n",
       " 'Sentiment: jingle(valence=0.27, arousal=0.0, dominance=-0.15200000000000002)',\n",
       " 'Sentiment: tractable(valence=0.27, arousal=0.0, dominance=-0.062000000000000055)',\n",
       " 'Sentiment: investigate(valence=0.28, arousal=0.0, dominance=0.562)',\n",
       " 'Sentiment: regionalism(valence=0.28, arousal=0.0, dominance=0.546)',\n",
       " 'Sentiment: kite(valence=0.28600000000000003, arousal=0.0, dominance=0.1459999999999999)',\n",
       " 'Sentiment: physique(valence=0.28600000000000003, arousal=0.0, dominance=0.08600000000000008)',\n",
       " 'Sentiment: chancellor(valence=0.29200000000000004, arousal=0.0, dominance=0.774)',\n",
       " 'Sentiment: commerce(valence=0.29200000000000004, arousal=0.0, dominance=0.5760000000000001)',\n",
       " 'Sentiment: liability(valence=0.29200000000000004, arousal=0.0, dominance=0.6040000000000001)',\n",
       " 'Sentiment: passkey(valence=0.29200000000000004, arousal=0.0, dominance=0.5820000000000001)',\n",
       " 'Sentiment: pronto(valence=0.29200000000000004, arousal=0.0, dominance=-0.06399999999999995)',\n",
       " 'Sentiment: ship(valence=0.29200000000000004, arousal=0.0, dominance=-0.122)',\n",
       " 'Sentiment: sledge(valence=0.29200000000000004, arousal=0.0, dominance=-0.278)',\n",
       " 'Sentiment: needlepoint(valence=0.30600000000000005, arousal=0.0, dominance=0.1120000000000001)',\n",
       " 'Sentiment: relate(valence=0.30600000000000005, arousal=0.0, dominance=0.246)',\n",
       " 'Sentiment: wording(valence=0.30600000000000005, arousal=0.0, dominance=0.17599999999999993)',\n",
       " 'Sentiment: confirmatory(valence=0.31200000000000006, arousal=0.0, dominance=0.3660000000000001)',\n",
       " 'Sentiment: seafood(valence=0.31200000000000006, arousal=0.0, dominance=-0.344)',\n",
       " 'Sentiment: consecrated(valence=0.32600000000000007, arousal=0.0, dominance=0.6000000000000001)',\n",
       " 'Sentiment: cellist(valence=0.3340000000000001, arousal=0.0, dominance=-0.028000000000000025)',\n",
       " 'Sentiment: continuing(valence=0.3340000000000001, arousal=0.0, dominance=0.040000000000000036)',\n",
       " 'Sentiment: financial(valence=0.3340000000000001, arousal=0.0, dominance=0.44399999999999995)',\n",
       " 'Sentiment: grounds(valence=0.3340000000000001, arousal=0.0, dominance=0.19599999999999995)',\n",
       " 'Sentiment: merchant(valence=0.3500000000000001, arousal=0.0, dominance=0.24)',\n",
       " 'Sentiment: begun(valence=0.3540000000000001, arousal=0.0, dominance=-0.19199999999999995)',\n",
       " 'Sentiment: motorboat(valence=0.3540000000000001, arousal=0.0, dominance=-0.21999999999999997)',\n",
       " 'Sentiment: straighten(valence=0.3540000000000001, arousal=0.0, dominance=0.3700000000000001)',\n",
       " 'Sentiment: prospective(valence=0.3560000000000001, arousal=0.0, dominance=0.43399999999999994)',\n",
       " 'Sentiment: democracy(valence=0.3600000000000001, arousal=0.0, dominance=0.6799999999999999)',\n",
       " 'Sentiment: answering(valence=0.3680000000000001, arousal=0.0, dominance=0.21399999999999997)',\n",
       " 'Sentiment: landlord(valence=0.3680000000000001, arousal=0.0, dominance=0.716)',\n",
       " 'Sentiment: tendency(valence=0.3680000000000001, arousal=0.0, dominance=0.3500000000000001)',\n",
       " 'Sentiment: sounding(valence=0.3799999999999999, arousal=0.0, dominance=0.1160000000000001)',\n",
       " 'Sentiment: allowable(valence=0.3959999999999999, arousal=0.0, dominance=0.12200000000000011)',\n",
       " 'Sentiment: assembly(valence=0.3959999999999999, arousal=0.0, dominance=0.28)',\n",
       " 'Sentiment: assess(valence=0.3959999999999999, arousal=0.0, dominance=0.246)',\n",
       " 'Sentiment: groom(valence=0.3959999999999999, arousal=0.0, dominance=0.20999999999999996)',\n",
       " 'Sentiment: instructional(valence=0.3959999999999999, arousal=0.0, dominance=0.546)',\n",
       " 'Sentiment: preparatory(valence=0.3959999999999999, arousal=0.0, dominance=0.1519999999999999)',\n",
       " 'Sentiment: sovereign(valence=0.3959999999999999, arousal=0.0, dominance=0.77)',\n",
       " 'Sentiment: grilled(valence=0.4039999999999999, arousal=0.0, dominance=-0.254)',\n",
       " 'Sentiment: originate(valence=0.4039999999999999, arousal=0.0, dominance=0.732)',\n",
       " 'Sentiment: carousel(valence=0.4079999999999999, arousal=0.0, dominance=-0.17600000000000005)',\n",
       " 'Sentiment: dog(valence=0.4079999999999999, arousal=0.0, dominance=-0.18600000000000005)',\n",
       " 'Sentiment: quantum(valence=0.4079999999999999, arousal=0.0, dominance=0.19999999999999996)',\n",
       " 'Sentiment: bike(valence=0.4159999999999999, arousal=0.0, dominance=-0.33399999999999996)',\n",
       " 'Sentiment: elaboration(valence=0.4159999999999999, arousal=0.0, dominance=0.19599999999999995)',\n",
       " 'Sentiment: establish(valence=0.4159999999999999, arousal=0.0, dominance=0.3759999999999999)',\n",
       " 'Sentiment: orchestra(valence=0.4159999999999999, arousal=0.0, dominance=0.32800000000000007)',\n",
       " 'Sentiment: projection(valence=0.4159999999999999, arousal=0.0, dominance=0.46199999999999997)',\n",
       " 'Sentiment: steamboat(valence=0.4159999999999999, arousal=0.0, dominance=0.266)',\n",
       " 'Sentiment: undying(valence=0.4159999999999999, arousal=0.0, dominance=0.546)',\n",
       " 'Sentiment: reflection(valence=0.41999999999999993, arousal=0.0, dominance=0.05600000000000005)',\n",
       " 'Sentiment: consistency(valence=0.42799999999999994, arousal=0.0, dominance=0.774)',\n",
       " 'Sentiment: opera(valence=0.42799999999999994, arousal=0.0, dominance=-0.03400000000000003)',\n",
       " 'Sentiment: piscina(valence=0.42799999999999994, arousal=0.0, dominance=-0.11399999999999999)',\n",
       " 'Sentiment: absolution(valence=0.42999999999999994, arousal=0.0, dominance=0.32800000000000007)',\n",
       " 'Sentiment: businesswoman(valence=0.43799999999999994, arousal=0.0, dominance=0.528)',\n",
       " 'Sentiment: engineer(valence=0.43799999999999994, arousal=0.0, dominance=0.75)',\n",
       " 'Sentiment: mood(valence=0.43999999999999995, arousal=0.0, dominance=0.0)',\n",
       " 'Sentiment: effectually(valence=0.44799999999999995, arousal=0.0, dominance=0.18799999999999994)',\n",
       " 'Sentiment: repute(valence=0.45799999999999996, arousal=0.0, dominance=0.4039999999999999)',\n",
       " 'Sentiment: eat(valence=0.46199999999999997, arousal=0.0, dominance=-0.07199999999999995)',\n",
       " 'Sentiment: concentration(valence=0.47, arousal=0.0, dominance=0.44399999999999995)',\n",
       " 'Sentiment: hallowed(valence=0.48, arousal=0.0, dominance=0.45599999999999996)',\n",
       " 'Sentiment: invaluable(valence=0.48, arousal=0.0, dominance=0.49)',\n",
       " 'Sentiment: salsa(valence=0.484, arousal=0.0, dominance=-0.26)',\n",
       " 'Sentiment: bequeath(valence=0.486, arousal=0.0, dominance=0.482)',\n",
       " 'Sentiment: association(valence=0.49, arousal=0.0, dominance=0.6339999999999999)',\n",
       " 'Sentiment: awakening(valence=0.49, arousal=0.0, dominance=0.236)',\n",
       " 'Sentiment: perceptive(valence=0.49, arousal=0.0, dominance=0.482)',\n",
       " 'Sentiment: affirmation(valence=0.5, arousal=0.0, dominance=0.3779999999999999)',\n",
       " 'Sentiment: consent(valence=0.5, arousal=0.0, dominance=0.24)',\n",
       " 'Sentiment: convinced(valence=0.5, arousal=0.0, dominance=0.26)',\n",
       " 'Sentiment: functional(valence=0.5, arousal=0.0, dominance=0.43999999999999995)',\n",
       " 'Sentiment: instantaneous(valence=0.5, arousal=0.0, dominance=0.16999999999999993)',\n",
       " 'Sentiment: outset(valence=0.5, arousal=0.0, dominance=0.16399999999999992)',\n",
       " 'Sentiment: capitals(valence=0.51, arousal=0.0, dominance=0.31000000000000005)',\n",
       " 'Sentiment: goodmusic(valence=0.512, arousal=0.0, dominance=0.0)',\n",
       " 'Sentiment: attainable(valence=0.52, arousal=0.0, dominance=0.518)',\n",
       " 'Sentiment: fluent(valence=0.52, arousal=0.0, dominance=0.22799999999999998)',\n",
       " 'Sentiment: responsibility(valence=0.52, arousal=0.0, dominance=0.704)',\n",
       " 'Sentiment: appreciates(valence=0.53, arousal=0.0, dominance=0.31200000000000006)',\n",
       " 'Sentiment: meaningful(valence=0.54, arousal=0.0, dominance=0.6040000000000001)',\n",
       " 'Sentiment: husband(valence=0.542, arousal=0.0, dominance=0.31000000000000005)',\n",
       " 'Sentiment: preparation(valence=0.542, arousal=0.0, dominance=0.3580000000000001)',\n",
       " 'Sentiment: viability(valence=0.552, arousal=0.0, dominance=0.3680000000000001)',\n",
       " 'Sentiment: photogenic(valence=0.56, arousal=0.0, dominance=-0.010000000000000009)',\n",
       " 'Sentiment: able(valence=0.5720000000000001, arousal=0.0, dominance=0.6200000000000001)',\n",
       " 'Sentiment: improvement(valence=0.5720000000000001, arousal=0.0, dominance=0.22199999999999998)',\n",
       " 'Sentiment: upgrade(valence=0.5720000000000001, arousal=0.0, dominance=0.3400000000000001)',\n",
       " 'Sentiment: willingness(valence=0.5720000000000001, arousal=0.0, dominance=0.45799999999999996)',\n",
       " 'Sentiment: faultless(valence=0.5840000000000001, arousal=0.0, dominance=0.482)',\n",
       " 'Sentiment: preference(valence=0.5840000000000001, arousal=0.0, dominance=0.43999999999999995)',\n",
       " 'Sentiment: affinity(valence=0.6000000000000001, arousal=0.0, dominance=0.07400000000000007)',\n",
       " 'Sentiment: bakery(valence=0.6040000000000001, arousal=0.0, dominance=-0.24)',\n",
       " 'Sentiment: cater(valence=0.6040000000000001, arousal=0.0, dominance=0.018000000000000016)',\n",
       " 'Sentiment: eyeful(valence=0.6040000000000001, arousal=0.0, dominance=0.3520000000000001)',\n",
       " 'Sentiment: reformation(valence=0.6180000000000001, arousal=0.0, dominance=0.1160000000000001)',\n",
       " 'Sentiment: attendance(valence=0.6240000000000001, arousal=0.0, dominance=0.18399999999999994)',\n",
       " 'Sentiment: elevate(valence=0.6240000000000001, arousal=0.0, dominance=0.6080000000000001)',\n",
       " 'Sentiment: bliss(valence=0.6319999999999999, arousal=0.0, dominance=0.5640000000000001)',\n",
       " 'Sentiment: fortress(valence=0.6319999999999999, arousal=0.0, dominance=0.8660000000000001)',\n",
       " 'Sentiment: palatable(valence=0.6459999999999999, arousal=0.0, dominance=0.18799999999999994)',\n",
       " 'Sentiment: promise(valence=0.6459999999999999, arousal=0.0, dominance=0.4079999999999999)',\n",
       " 'Sentiment: development(valence=0.6539999999999999, arousal=0.0, dominance=0.5920000000000001)',\n",
       " 'Sentiment: goodvibes(valence=0.6539999999999999, arousal=0.0, dominance=0.06800000000000006)',\n",
       " 'Sentiment: heart(valence=0.6539999999999999, arousal=0.0, dominance=0.3859999999999999)',\n",
       " 'Sentiment: martini(valence=0.6559999999999999, arousal=0.0, dominance=0.038000000000000034)',\n",
       " 'Sentiment: archangel(valence=0.6739999999999999, arousal=0.0, dominance=0.4159999999999999)',\n",
       " 'Sentiment: kids(valence=0.6739999999999999, arousal=0.0, dominance=-0.16600000000000004)',\n",
       " 'Sentiment: reunion(valence=0.6739999999999999, arousal=0.0, dominance=0.3440000000000001)',\n",
       " 'Sentiment: summertime(valence=0.6739999999999999, arousal=0.0, dominance=-0.08999999999999997)',\n",
       " 'Sentiment: embellish(valence=0.6839999999999999, arousal=0.0, dominance=0.538)',\n",
       " 'Sentiment: cook(valence=0.694, arousal=0.0, dominance=-0.17600000000000005)',\n",
       " 'Sentiment: praisegod(valence=0.702, arousal=0.0, dominance=0.276)',\n",
       " 'Sentiment: merit(valence=0.708, arousal=0.0, dominance=0.44399999999999995)',\n",
       " 'Sentiment: beaches(valence=0.73, arousal=0.0, dominance=0.07600000000000007)',\n",
       " 'Sentiment: elegant(valence=0.73, arousal=0.0, dominance=0.3700000000000001)',\n",
       " 'Sentiment: gratuity(valence=0.73, arousal=0.0, dominance=-0.07599999999999996)',\n",
       " 'Sentiment: woman(valence=0.73, arousal=0.0, dominance=0.15599999999999992)',\n",
       " 'Sentiment: revelation(valence=0.758, arousal=0.0, dominance=0.73)',\n",
       " 'Sentiment: soulmate(valence=0.78, arousal=0.0, dominance=0.256)',\n",
       " 'Sentiment: free(valence=0.792, arousal=0.0, dominance=0.08800000000000008)',\n",
       " 'Sentiment: originality(valence=0.796, arousal=0.0, dominance=0.6479999999999999)',\n",
       " 'Sentiment: agreeable(valence=0.812, arousal=0.0, dominance=0.3919999999999999)',\n",
       " 'Sentiment: affirmatively(valence=0.8160000000000001, arousal=0.0, dominance=0.6220000000000001)',\n",
       " 'Sentiment: commendation(valence=0.8220000000000001, arousal=0.0, dominance=0.278)',\n",
       " 'Sentiment: jubilee(valence=0.8320000000000001, arousal=0.0, dominance=0.15799999999999992)',\n",
       " 'Sentiment: hopes(valence=0.8340000000000001, arousal=0.0, dominance=0.4039999999999999)',\n",
       " 'Sentiment: precious(valence=0.8340000000000001, arousal=0.0, dominance=0.45199999999999996)',\n",
       " 'Sentiment: glow(valence=0.8360000000000001, arousal=0.0, dominance=0.49)',\n",
       " 'Sentiment: positiveenergy(valence=0.8799999999999999, arousal=0.0, dominance=0.6160000000000001)',\n",
       " 'Sentiment: sweetest(valence=0.9179999999999999, arousal=0.0, dominance=-0.26)']"
      ]
     },
     "execution_count": 16,
     "metadata": {},
     "output_type": "execute_result"
    }
   ],
   "source": [
    "[str(lexicon[x]) for x in vals[0]]"
   ]
  },
  {
   "cell_type": "code",
   "execution_count": 19,
   "id": "2c44afc5",
   "metadata": {},
   "outputs": [
    {
     "data": {
      "text/plain": [
       "['Sentiment: turret(valence=-0.01200000000000001, arousal=0.0, dominance=0.17599999999999993)',\n",
       " 'Sentiment: budding(valence=-0.020000000000000018, arousal=0.0, dominance=-0.29000000000000004)',\n",
       " 'Sentiment: encode(valence=-0.020000000000000018, arousal=0.0, dominance=0.46799999999999997)',\n",
       " 'Sentiment: facsimile(valence=-0.020000000000000018, arousal=0.0, dominance=0.08600000000000008)',\n",
       " 'Sentiment: interlocutory(valence=-0.020000000000000018, arousal=0.0, dominance=0.05400000000000005)',\n",
       " 'Sentiment: pulsar(valence=-0.020000000000000018, arousal=0.0, dominance=0.236)',\n",
       " 'Sentiment: rewrite(valence=-0.020000000000000018, arousal=0.0, dominance=-0.132)',\n",
       " 'Sentiment: swank(valence=-0.020000000000000018, arousal=0.0, dominance=-0.11599999999999999)',\n",
       " 'Sentiment: dissuade(valence=-0.03600000000000003, arousal=0.0, dominance=-0.30000000000000004)',\n",
       " 'Sentiment: redo(valence=-0.038000000000000034, arousal=0.0, dominance=0.07000000000000006)',\n",
       " 'Sentiment: barkeep(valence=-0.040000000000000036, arousal=0.0, dominance=-0.09199999999999997)',\n",
       " 'Sentiment: psych(valence=-0.040000000000000036, arousal=0.0, dominance=0.052000000000000046)',\n",
       " 'Sentiment: putt(valence=-0.040000000000000036, arousal=0.0, dominance=-0.16400000000000003)',\n",
       " 'Sentiment: scaffold(valence=-0.040000000000000036, arousal=0.0, dominance=-0.32799999999999996)',\n",
       " 'Sentiment: solidification(valence=-0.040000000000000036, arousal=0.0, dominance=0.6539999999999999)',\n",
       " 'Sentiment: brokerage(valence=-0.04200000000000004, arousal=0.0, dominance=0.0)',\n",
       " 'Sentiment: hostel(valence=-0.04200000000000004, arousal=0.0, dominance=-0.20399999999999996)',\n",
       " 'Sentiment: incidentally(valence=-0.04200000000000004, arousal=0.0, dominance=0.0)',\n",
       " 'Sentiment: lab(valence=-0.04200000000000004, arousal=0.0, dominance=0.19999999999999996)',\n",
       " 'Sentiment: peephole(valence=-0.04200000000000004, arousal=0.0, dominance=-0.38)',\n",
       " 'Sentiment: recur(valence=-0.04200000000000004, arousal=0.0, dominance=-0.16800000000000004)',\n",
       " 'Sentiment: schoolwork(valence=-0.04200000000000004, arousal=0.0, dominance=-0.038000000000000034)',\n",
       " 'Sentiment: rail(valence=-0.06000000000000005, arousal=0.0, dominance=0.052000000000000046)',\n",
       " 'Sentiment: amateur(valence=-0.062000000000000055, arousal=0.0, dominance=-0.18200000000000005)',\n",
       " 'Sentiment: buss(valence=-0.062000000000000055, arousal=0.0, dominance=-0.21799999999999997)',\n",
       " 'Sentiment: latent(valence=-0.062000000000000055, arousal=0.0, dominance=0.30600000000000005)',\n",
       " 'Sentiment: hooky(valence=-0.06399999999999995, arousal=0.0, dominance=-0.09599999999999997)',\n",
       " 'Sentiment: clipping(valence=-0.07999999999999996, arousal=0.0, dominance=-0.18999999999999995)',\n",
       " 'Sentiment: encircle(valence=-0.07999999999999996, arousal=0.0, dominance=0.038000000000000034)',\n",
       " 'Sentiment: guidelines(valence=-0.08199999999999996, arousal=0.0, dominance=0.32800000000000007)',\n",
       " 'Sentiment: leverage(valence=-0.08199999999999996, arousal=0.0, dominance=0.258)',\n",
       " 'Sentiment: payback(valence=-0.08199999999999996, arousal=0.0, dominance=0.1339999999999999)',\n",
       " 'Sentiment: reprise(valence=-0.08199999999999996, arousal=0.0, dominance=-0.07199999999999995)',\n",
       " 'Sentiment: retriever(valence=-0.08199999999999996, arousal=0.0, dominance=-0.07199999999999995)',\n",
       " 'Sentiment: shin(valence=-0.08199999999999996, arousal=0.0, dominance=-0.538)',\n",
       " 'Sentiment: cartridge(valence=-0.08399999999999996, arousal=0.0, dominance=-0.18600000000000005)',\n",
       " 'Sentiment: drafty(valence=-0.08399999999999996, arousal=0.0, dominance=0.03600000000000003)',\n",
       " 'Sentiment: miter(valence=-0.08399999999999996, arousal=0.0, dominance=-0.17200000000000004)',\n",
       " 'Sentiment: reinstall(valence=-0.08399999999999996, arousal=0.0, dominance=0.49)',\n",
       " 'Sentiment: slugger(valence=-0.08399999999999996, arousal=0.0, dominance=0.03600000000000003)',\n",
       " 'Sentiment: weights(valence=-0.08399999999999996, arousal=0.0, dominance=0.44399999999999995)',\n",
       " 'Sentiment: cockamamie(valence=-0.09999999999999998, arousal=0.0, dominance=-0.236)',\n",
       " 'Sentiment: test(valence=-0.10199999999999998, arousal=0.0, dominance=0.018000000000000016)',\n",
       " 'Sentiment: upstart(valence=-0.10199999999999998, arousal=0.0, dominance=-0.08999999999999997)',\n",
       " 'Sentiment: nudge(valence=-0.10399999999999998, arousal=0.0, dominance=0.018000000000000016)',\n",
       " 'Sentiment: plumb(valence=-0.10399999999999998, arousal=0.0, dominance=0.1080000000000001)',\n",
       " 'Sentiment: spaz(valence=-0.11399999999999999, arousal=0.0, dominance=-0.46399999999999997)',\n",
       " 'Sentiment: disparate(valence=-0.124, arousal=0.0, dominance=-0.264)',\n",
       " 'Sentiment: yeller(valence=-0.128, arousal=0.0, dominance=-0.09399999999999997)',\n",
       " 'Sentiment: reconfigure(valence=-0.14200000000000002, arousal=0.0, dominance=0.31600000000000006)',\n",
       " 'Sentiment: juxtaposition(valence=-0.14600000000000002, arousal=0.0, dominance=-0.07999999999999996)',\n",
       " 'Sentiment: strip(valence=-0.14600000000000002, arousal=0.0, dominance=-0.128)',\n",
       " 'Sentiment: governess(valence=-0.14800000000000002, arousal=0.0, dominance=0.264)',\n",
       " 'Sentiment: dermatology(valence=-0.15600000000000003, arousal=0.0, dominance=0.1120000000000001)',\n",
       " 'Sentiment: ablation(valence=-0.16400000000000003, arousal=0.0, dominance=0.0)',\n",
       " 'Sentiment: carver(valence=-0.16400000000000003, arousal=0.0, dominance=0.0)',\n",
       " 'Sentiment: farther(valence=-0.16400000000000003, arousal=0.0, dominance=-0.14)',\n",
       " 'Sentiment: debenture(valence=-0.16600000000000004, arousal=0.0, dominance=-0.06799999999999995)',\n",
       " 'Sentiment: jornada(valence=-0.16600000000000004, arousal=0.0, dominance=0.06600000000000006)',\n",
       " 'Sentiment: pique(valence=-0.16600000000000004, arousal=0.0, dominance=-0.14800000000000002)',\n",
       " 'Sentiment: varmint(valence=-0.16600000000000004, arousal=0.0, dominance=-0.17800000000000005)',\n",
       " 'Sentiment: inhaler(valence=-0.18400000000000005, arousal=0.0, dominance=-0.30200000000000005)',\n",
       " 'Sentiment: backroom(valence=-0.18799999999999994, arousal=0.0, dominance=-0.22599999999999998)',\n",
       " 'Sentiment: boar(valence=-0.18799999999999994, arousal=0.0, dominance=-0.29800000000000004)',\n",
       " 'Sentiment: duplicity(valence=-0.18799999999999994, arousal=0.0, dominance=0.15599999999999992)',\n",
       " 'Sentiment: moorings(valence=-0.18799999999999994, arousal=0.0, dominance=0.03200000000000003)',\n",
       " 'Sentiment: retrospect(valence=-0.18799999999999994, arousal=0.0, dominance=0.07600000000000007)',\n",
       " 'Sentiment: busy(valence=-0.19599999999999995, arousal=0.0, dominance=-0.052000000000000046)',\n",
       " 'Sentiment: redneck(valence=-0.19799999999999995, arousal=0.0, dominance=-0.30400000000000005)',\n",
       " 'Sentiment: contingency(valence=-0.20799999999999996, arousal=0.0, dominance=0.3400000000000001)',\n",
       " 'Sentiment: malarkey(valence=-0.20799999999999996, arousal=0.0, dominance=-0.06999999999999995)',\n",
       " 'Sentiment: relocation(valence=-0.20799999999999996, arousal=0.0, dominance=-0.050000000000000044)',\n",
       " 'Sentiment: sniff(valence=-0.20799999999999996, arousal=0.0, dominance=-0.364)',\n",
       " 'Sentiment: staccato(valence=-0.20799999999999996, arousal=0.0, dominance=-0.14600000000000002)',\n",
       " 'Sentiment: philistine(valence=-0.21999999999999997, arousal=0.0, dominance=-0.018000000000000016)',\n",
       " 'Sentiment: basement(valence=-0.22399999999999998, arousal=0.0, dominance=-0.46399999999999997)',\n",
       " 'Sentiment: kraut(valence=-0.22399999999999998, arousal=0.0, dominance=-0.21999999999999997)',\n",
       " 'Sentiment: offhand(valence=-0.22399999999999998, arousal=0.0, dominance=-0.264)',\n",
       " 'Sentiment: fission(valence=-0.22799999999999998, arousal=0.0, dominance=0.1339999999999999)',\n",
       " 'Sentiment: commissary(valence=-0.22999999999999998, arousal=0.0, dominance=0.5760000000000001)',\n",
       " 'Sentiment: proletarian(valence=-0.22999999999999998, arousal=0.0, dominance=-0.14800000000000002)',\n",
       " 'Sentiment: clutch(valence=-0.23399999999999999, arousal=0.0, dominance=-0.018000000000000016)',\n",
       " 'Sentiment: barrack(valence=-0.244, arousal=0.0, dominance=-0.08999999999999997)',\n",
       " 'Sentiment: chain(valence=-0.244, arousal=0.0, dominance=0.09400000000000008)',\n",
       " 'Sentiment: manhole(valence=-0.244, arousal=0.0, dominance=0.03200000000000003)',\n",
       " 'Sentiment: prey(valence=-0.244, arousal=0.0, dominance=-0.388)',\n",
       " 'Sentiment: relegation(valence=-0.25, arousal=0.0, dominance=-0.132)',\n",
       " 'Sentiment: spillin(valence=-0.25, arousal=0.0, dominance=-0.276)',\n",
       " 'Sentiment: indentation(valence=-0.252, arousal=0.0, dominance=-0.30200000000000005)',\n",
       " 'Sentiment: runt(valence=-0.26, arousal=0.0, dominance=-0.10999999999999999)',\n",
       " 'Sentiment: caulk(valence=-0.266, arousal=0.0, dominance=-0.16400000000000003)',\n",
       " 'Sentiment: uncertain(valence=-0.274, arousal=0.0, dominance=-0.6719999999999999)',\n",
       " 'Sentiment: grovel(valence=-0.28, arousal=0.0, dominance=-0.17200000000000004)',\n",
       " 'Sentiment: urinate(valence=-0.28, arousal=0.0, dominance=-0.29400000000000004)',\n",
       " 'Sentiment: deficit(valence=-0.28400000000000003, arousal=0.0, dominance=-0.46199999999999997)',\n",
       " 'Sentiment: knell(valence=-0.29200000000000004, arousal=0.0, dominance=-0.246)',\n",
       " 'Sentiment: spammers(valence=-0.29200000000000004, arousal=0.0, dominance=-0.16400000000000003)',\n",
       " 'Sentiment: buzzard(valence=-0.30000000000000004, arousal=0.0, dominance=-0.55)',\n",
       " 'Sentiment: alley(valence=-0.30600000000000005, arousal=0.0, dominance=-0.29000000000000004)',\n",
       " 'Sentiment: implanted(valence=-0.30600000000000005, arousal=0.0, dominance=0.3580000000000001)',\n",
       " 'Sentiment: dump(valence=-0.31000000000000005, arousal=0.0, dominance=-0.26)',\n",
       " 'Sentiment: moored(valence=-0.31200000000000006, arousal=0.0, dominance=-0.16600000000000004)',\n",
       " 'Sentiment: moot(valence=-0.31200000000000006, arousal=0.0, dominance=0.22999999999999998)',\n",
       " 'Sentiment: deferring(valence=-0.31399999999999995, arousal=0.0, dominance=-0.17400000000000004)',\n",
       " 'Sentiment: annexation(valence=-0.31599999999999995, arousal=0.0, dominance=0.1100000000000001)',\n",
       " 'Sentiment: apostate(valence=-0.31599999999999995, arousal=0.0, dominance=0.05600000000000005)',\n",
       " 'Sentiment: interdiction(valence=-0.32599999999999996, arousal=0.0, dominance=0.16999999999999993)',\n",
       " 'Sentiment: overgrown(valence=-0.33399999999999996, arousal=0.0, dominance=-0.262)',\n",
       " 'Sentiment: fedup(valence=-0.346, arousal=0.0, dominance=-0.29600000000000004)',\n",
       " 'Sentiment: nimrod(valence=-0.346, arousal=0.0, dominance=0.07800000000000007)',\n",
       " 'Sentiment: stigma(valence=-0.346, arousal=0.0, dominance=-0.06000000000000005)',\n",
       " 'Sentiment: repentant(valence=-0.348, arousal=0.0, dominance=-0.6)',\n",
       " 'Sentiment: stiffness(valence=-0.354, arousal=0.0, dominance=0.31400000000000006)',\n",
       " 'Sentiment: astringent(valence=-0.368, arousal=0.0, dominance=-0.052000000000000046)',\n",
       " 'Sentiment: regression(valence=-0.376, arousal=0.0, dominance=-0.352)',\n",
       " 'Sentiment: shunt(valence=-0.376, arousal=0.0, dominance=-0.06000000000000005)',\n",
       " 'Sentiment: versus(valence=-0.38, arousal=0.0, dominance=-0.10599999999999998)',\n",
       " 'Sentiment: ended(valence=-0.396, arousal=0.0, dominance=0.0)',\n",
       " 'Sentiment: stagnant(valence=-0.4, arousal=0.0, dominance=-0.5840000000000001)',\n",
       " 'Sentiment: trellis(valence=-0.402, arousal=0.0, dominance=-0.22199999999999998)',\n",
       " 'Sentiment: sty(valence=-0.40800000000000003, arousal=0.0, dominance=-0.55)',\n",
       " 'Sentiment: exclude(valence=-0.41600000000000004, arousal=0.0, dominance=0.06000000000000005)',\n",
       " 'Sentiment: methanol(valence=-0.41600000000000004, arousal=0.0, dominance=0.1399999999999999)',\n",
       " 'Sentiment: stfu(valence=-0.41600000000000004, arousal=0.0, dominance=-0.21999999999999997)',\n",
       " 'Sentiment: bug(valence=-0.42800000000000005, arousal=0.0, dominance=-0.508)',\n",
       " 'Sentiment: inadequacy(valence=-0.42800000000000005, arousal=0.0, dominance=-0.406)',\n",
       " 'Sentiment: repellent(valence=-0.42800000000000005, arousal=0.0, dominance=-0.018000000000000016)',\n",
       " 'Sentiment: restricted(valence=-0.44799999999999995, arousal=0.0, dominance=-0.18600000000000005)',\n",
       " 'Sentiment: afflicted(valence=-0.45799999999999996, arousal=0.0, dominance=-0.6659999999999999)',\n",
       " 'Sentiment: cannabis(valence=-0.45799999999999996, arousal=0.0, dominance=0.1279999999999999)',\n",
       " 'Sentiment: constrain(valence=-0.478, arousal=0.0, dominance=0.0)',\n",
       " 'Sentiment: agh(valence=-0.48, arousal=0.0, dominance=-0.19999999999999996)',\n",
       " 'Sentiment: slash(valence=-0.48, arousal=0.0, dominance=0.018000000000000016)',\n",
       " 'Sentiment: catatonic(valence=-0.49, arousal=0.0, dominance=0.018000000000000016)',\n",
       " 'Sentiment: unorganised(valence=-0.5, arousal=0.0, dominance=-0.5760000000000001)',\n",
       " 'Sentiment: alienate(valence=-0.506, arousal=0.0, dominance=0.04600000000000004)',\n",
       " 'Sentiment: callous(valence=-0.51, arousal=0.0, dominance=-0.22799999999999998)',\n",
       " 'Sentiment: backwardness(valence=-0.52, arousal=0.0, dominance=-0.728)',\n",
       " 'Sentiment: sodding(valence=-0.52, arousal=0.0, dominance=-0.19999999999999996)',\n",
       " 'Sentiment: autism(valence=-0.53, arousal=0.0, dominance=-0.10599999999999998)',\n",
       " 'Sentiment: maggot(valence=-0.53, arousal=0.0, dominance=-0.53)',\n",
       " 'Sentiment: unrealistic(valence=-0.542, arousal=0.0, dominance=-0.51)',\n",
       " 'Sentiment: unseat(valence=-0.542, arousal=0.0, dominance=-0.376)',\n",
       " 'Sentiment: impudence(valence=-0.5720000000000001, arousal=0.0, dominance=-0.05600000000000005)',\n",
       " 'Sentiment: redundant(valence=-0.5800000000000001, arousal=0.0, dominance=0.05400000000000005)',\n",
       " 'Sentiment: blacken(valence=-0.5840000000000001, arousal=0.0, dominance=-0.544)',\n",
       " 'Sentiment: dick(valence=-0.5840000000000001, arousal=0.0, dominance=-0.07599999999999996)',\n",
       " 'Sentiment: glaucoma(valence=-0.5840000000000001, arousal=0.0, dominance=-0.37)',\n",
       " 'Sentiment: tearful(valence=-0.5840000000000001, arousal=0.0, dominance=-0.632)',\n",
       " 'Sentiment: skeptical(valence=-0.5860000000000001, arousal=0.0, dominance=-0.09599999999999997)',\n",
       " 'Sentiment: contemptuous(valence=-0.5920000000000001, arousal=0.0, dominance=-0.25)',\n",
       " 'Sentiment: puzzled(valence=-0.5920000000000001, arousal=0.0, dominance=-0.45599999999999996)',\n",
       " 'Sentiment: grime(valence=-0.604, arousal=0.0, dominance=-0.55)',\n",
       " 'Sentiment: incompatible(valence=-0.608, arousal=0.0, dominance=-0.38)',\n",
       " 'Sentiment: deflection(valence=-0.624, arousal=0.0, dominance=-0.236)',\n",
       " 'Sentiment: smoke(valence=-0.624, arousal=0.0, dominance=-0.21799999999999997)',\n",
       " 'Sentiment: mucked(valence=-0.632, arousal=0.0, dominance=-0.254)',\n",
       " 'Sentiment: somber(valence=-0.632, arousal=0.0, dominance=-0.24)',\n",
       " 'Sentiment: protocol(valence=-0.644, arousal=0.0, dominance=0.5720000000000001)',\n",
       " 'Sentiment: moderate negative(valence=-0.646, arousal=0.0, dominance=-0.388)',\n",
       " 'Sentiment: slimy(valence=-0.646, arousal=0.0, dominance=-0.382)',\n",
       " 'Sentiment: misfit(valence=-0.654, arousal=0.0, dominance=-0.21399999999999997)',\n",
       " 'Sentiment: indignity(valence=-0.6659999999999999, arousal=0.0, dominance=-0.388)',\n",
       " 'Sentiment: scarcity(valence=-0.6659999999999999, arousal=0.0, dominance=-0.636)',\n",
       " 'Sentiment: bummer(valence=-0.6739999999999999, arousal=0.0, dominance=-0.46599999999999997)',\n",
       " 'Sentiment: bacterial(valence=-0.688, arousal=0.0, dominance=-0.05400000000000005)',\n",
       " 'Sentiment: paralysis(valence=-0.688, arousal=0.0, dominance=-0.39)',\n",
       " 'Sentiment: impair(valence=-0.694, arousal=0.0, dominance=-0.28)',\n",
       " 'Sentiment: scar(valence=-0.708, arousal=0.0, dominance=-0.20599999999999996)',\n",
       " 'Sentiment: thankless(valence=-0.708, arousal=0.0, dominance=-0.006000000000000005)',\n",
       " 'Sentiment: disallowed(valence=-0.73, arousal=0.0, dominance=-0.344)',\n",
       " 'Sentiment: lice(valence=-0.734, arousal=0.0, dominance=-0.612)',\n",
       " 'Sentiment: farewell(valence=-0.74, arousal=0.0, dominance=0.18199999999999994)',\n",
       " 'Sentiment: laryngitis(valence=-0.75, arousal=0.0, dominance=-0.26)',\n",
       " 'Sentiment: lopsided(valence=-0.75, arousal=0.0, dominance=-0.45599999999999996)',\n",
       " 'Sentiment: powerless(valence=-0.75, arousal=0.0, dominance=-0.344)',\n",
       " 'Sentiment: grieve(valence=-0.756, arousal=0.0, dominance=-0.33399999999999996)',\n",
       " 'Sentiment: moronic(valence=-0.756, arousal=0.0, dominance=-0.552)',\n",
       " 'Sentiment: unsteady(valence=-0.756, arousal=0.0, dominance=-0.62)',\n",
       " 'Sentiment: immature(valence=-0.772, arousal=0.0, dominance=-0.6)',\n",
       " 'Sentiment: dirt(valence=-0.776, arousal=0.0, dominance=-0.528)',\n",
       " 'Sentiment: pained(valence=-0.776, arousal=0.0, dominance=-0.5)',\n",
       " 'Sentiment: tomb(valence=-0.776, arousal=0.0, dominance=-0.31399999999999995)',\n",
       " 'Sentiment: unhappy(valence=-0.776, arousal=0.0, dominance=-0.69)',\n",
       " 'Sentiment: defeat(valence=-0.8160000000000001, arousal=0.0, dominance=-0.552)',\n",
       " 'Sentiment: unwarranted(valence=-0.8180000000000001, arousal=0.0, dominance=-0.31000000000000005)',\n",
       " 'Sentiment: degrade(valence=-0.834, arousal=0.0, dominance=-0.632)',\n",
       " 'Sentiment: downcast(valence=-0.858, arousal=0.0, dominance=-0.556)',\n",
       " 'Sentiment: broken(valence=-0.876, arousal=0.0, dominance=-0.41400000000000003)',\n",
       " 'Sentiment: dontlikeyou(valence=-0.89, arousal=0.0, dominance=-0.43600000000000005)',\n",
       " 'Sentiment: incapacity(valence=-0.896, arousal=0.0, dominance=-0.5660000000000001)',\n",
       " 'Sentiment: overweight(valence=-0.896, arousal=0.0, dominance=-0.22199999999999998)',\n",
       " 'Sentiment: sicken(valence=-0.898, arousal=0.0, dominance=-0.41200000000000003)',\n",
       " 'Sentiment: contaminated(valence=-0.92, arousal=0.0, dominance=-0.264)',\n",
       " 'Sentiment: untrue(valence=-0.938, arousal=0.0, dominance=-0.624)']"
      ]
     },
     "execution_count": 19,
     "metadata": {},
     "output_type": "execute_result"
    }
   ],
   "source": [
    "[str(lexicon[x]) for x in vals[180]]"
   ]
  },
  {
   "cell_type": "code",
   "execution_count": 18,
   "id": "c4144070",
   "metadata": {},
   "outputs": [
    {
     "data": {
      "text/plain": [
       "'Sentiment: shit(valence=-1.0, arousal=0.3560000000000001, dominance=-0.41200000000000003)'"
      ]
     },
     "execution_count": 18,
     "metadata": {},
     "output_type": "execute_result"
    }
   ],
   "source": [
    "str(lexicon[\"shit\"])"
   ]
  },
  {
   "cell_type": "code",
   "execution_count": null,
   "id": "197e1853",
   "metadata": {},
   "outputs": [],
   "source": []
  }
 ],
 "metadata": {
  "kernelspec": {
   "display_name": "Python 3 (ipykernel)",
   "language": "python",
   "name": "python3"
  },
  "language_info": {
   "codemirror_mode": {
    "name": "ipython",
    "version": 3
   },
   "file_extension": ".py",
   "mimetype": "text/x-python",
   "name": "python",
   "nbconvert_exporter": "python",
   "pygments_lexer": "ipython3",
   "version": "3.8.10"
  }
 },
 "nbformat": 4,
 "nbformat_minor": 5
}
